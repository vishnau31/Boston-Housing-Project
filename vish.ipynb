{
 "cells": [
  {
   "cell_type": "markdown",
   "metadata": {},
   "source": [
    "# Project: Investigate a Dataset (TMDb Movie Data)\n",
    "\n",
    "## Contents of project\n",
    "<ul>\n",
    "<li><a href=\"#introduction\">Introduction</a></li>\n",
    "<li><a href=\"#data_wrangling\">Data Wrangling</a></li>\n",
    "<li><a href=\"#explore\">Exploratory Data Analysis</a></li>\n",
    "<li><a href=\"#conclusion\">Conclusions</a></li>\n",
    "</ul>"
   ]
  },
  {
   "cell_type": "markdown",
   "metadata": {},
   "source": [
    "<a id='introuction'></a>\n",
    "## Introduction\n",
    "This project is to analyse movie data from TMDb ([The Movie Database](https://www.themoviedb.org)) for over 10,000 movies colleted by [Kaggle](https://www.kaggle.com). The data contains information such as genre, cast, budget, revenue, popularity, rating, director, production, overview,vote_count etc. With this information the movie data can be analysed so that we can answer the questions. \n",
    "\n",
    "_Research questions I would like to explore :_\n",
    "\n",
    "1. Trends of movies budget and revenue over the years.\n",
    "2. Characterisation of movies with highest revenues by considering following:\n",
    "    * Budget\n",
    "    * Popularity\n",
    "    * Cast\n",
    "    * Genres\n",
    "    * Director\n",
    "3. Finding the best cordination of actor and director for highest revenue movie."
   ]
  },
  {
   "cell_type": "code",
   "execution_count": 1,
   "metadata": {},
   "outputs": [],
   "source": [
    "\n",
    "## import statements\n",
    "import unicodecsv\n",
    "from pprint import pprint\n",
    "import numpy as np\n",
    "import pandas as pd\n",
    "import matplotlib.pyplot as plt\n",
    "import seaborn as sns\n"
   ]
  },
  {
   "cell_type": "code",
   "execution_count": 2,
   "metadata": {},
   "outputs": [
    {
     "name": "stderr",
     "output_type": "stream",
     "text": [
      "UsageError: unrecognized arguments: #this is use to show the plot in the notebook\n"
     ]
    }
   ],
   "source": [
    "%matplotlib inline #this is use to show the plot in the notebook"
   ]
  },
  {
   "cell_type": "code",
   "execution_count": 3,
   "metadata": {},
   "outputs": [],
   "source": [
    "#reading file\n",
    "tmdb_csv_file = 'tmdb-movies.csv'"
   ]
  },
  {
   "cell_type": "markdown",
   "metadata": {},
   "source": [
    "<a id='data_wrangling'></a>\n",
    "## Data Wrangling\n",
    "\n"
   ]
  },
  {
   "cell_type": "code",
   "execution_count": 7,
   "metadata": {},
   "outputs": [
    {
     "data": {
      "text/html": [
       "<div>\n",
       "<style scoped>\n",
       "    .dataframe tbody tr th:only-of-type {\n",
       "        vertical-align: middle;\n",
       "    }\n",
       "\n",
       "    .dataframe tbody tr th {\n",
       "        vertical-align: top;\n",
       "    }\n",
       "\n",
       "    .dataframe thead th {\n",
       "        text-align: right;\n",
       "    }\n",
       "</style>\n",
       "<table border=\"1\" class=\"dataframe\">\n",
       "  <thead>\n",
       "    <tr style=\"text-align: right;\">\n",
       "      <th></th>\n",
       "      <th>id</th>\n",
       "      <th>imdb_id</th>\n",
       "      <th>popularity</th>\n",
       "      <th>budget</th>\n",
       "      <th>revenue</th>\n",
       "      <th>original_title</th>\n",
       "      <th>cast</th>\n",
       "      <th>homepage</th>\n",
       "      <th>director</th>\n",
       "      <th>tagline</th>\n",
       "      <th>...</th>\n",
       "      <th>overview</th>\n",
       "      <th>runtime</th>\n",
       "      <th>genres</th>\n",
       "      <th>production_companies</th>\n",
       "      <th>release_date</th>\n",
       "      <th>vote_count</th>\n",
       "      <th>vote_average</th>\n",
       "      <th>release_year</th>\n",
       "      <th>budget_adj</th>\n",
       "      <th>revenue_adj</th>\n",
       "    </tr>\n",
       "  </thead>\n",
       "  <tbody>\n",
       "    <tr>\n",
       "      <th>0</th>\n",
       "      <td>135397</td>\n",
       "      <td>tt0369610</td>\n",
       "      <td>32.985763</td>\n",
       "      <td>150000000</td>\n",
       "      <td>1513528810</td>\n",
       "      <td>Jurassic World</td>\n",
       "      <td>Chris Pratt|Bryce Dallas Howard|Irrfan Khan|Vi...</td>\n",
       "      <td>http://www.jurassicworld.com/</td>\n",
       "      <td>Colin Trevorrow</td>\n",
       "      <td>The park is open.</td>\n",
       "      <td>...</td>\n",
       "      <td>Twenty-two years after the events of Jurassic ...</td>\n",
       "      <td>124</td>\n",
       "      <td>Action|Adventure|Science Fiction|Thriller</td>\n",
       "      <td>Universal Studios|Amblin Entertainment|Legenda...</td>\n",
       "      <td>6/9/15</td>\n",
       "      <td>5562</td>\n",
       "      <td>6.5</td>\n",
       "      <td>2015</td>\n",
       "      <td>1.379999e+08</td>\n",
       "      <td>1.392446e+09</td>\n",
       "    </tr>\n",
       "    <tr>\n",
       "      <th>1</th>\n",
       "      <td>76341</td>\n",
       "      <td>tt1392190</td>\n",
       "      <td>28.419936</td>\n",
       "      <td>150000000</td>\n",
       "      <td>378436354</td>\n",
       "      <td>Mad Max: Fury Road</td>\n",
       "      <td>Tom Hardy|Charlize Theron|Hugh Keays-Byrne|Nic...</td>\n",
       "      <td>http://www.madmaxmovie.com/</td>\n",
       "      <td>George Miller</td>\n",
       "      <td>What a Lovely Day.</td>\n",
       "      <td>...</td>\n",
       "      <td>An apocalyptic story set in the furthest reach...</td>\n",
       "      <td>120</td>\n",
       "      <td>Action|Adventure|Science Fiction|Thriller</td>\n",
       "      <td>Village Roadshow Pictures|Kennedy Miller Produ...</td>\n",
       "      <td>5/13/15</td>\n",
       "      <td>6185</td>\n",
       "      <td>7.1</td>\n",
       "      <td>2015</td>\n",
       "      <td>1.379999e+08</td>\n",
       "      <td>3.481613e+08</td>\n",
       "    </tr>\n",
       "    <tr>\n",
       "      <th>2</th>\n",
       "      <td>262500</td>\n",
       "      <td>tt2908446</td>\n",
       "      <td>13.112507</td>\n",
       "      <td>110000000</td>\n",
       "      <td>295238201</td>\n",
       "      <td>Insurgent</td>\n",
       "      <td>Shailene Woodley|Theo James|Kate Winslet|Ansel...</td>\n",
       "      <td>http://www.thedivergentseries.movie/#insurgent</td>\n",
       "      <td>Robert Schwentke</td>\n",
       "      <td>One Choice Can Destroy You</td>\n",
       "      <td>...</td>\n",
       "      <td>Beatrice Prior must confront her inner demons ...</td>\n",
       "      <td>119</td>\n",
       "      <td>Adventure|Science Fiction|Thriller</td>\n",
       "      <td>Summit Entertainment|Mandeville Films|Red Wago...</td>\n",
       "      <td>3/18/15</td>\n",
       "      <td>2480</td>\n",
       "      <td>6.3</td>\n",
       "      <td>2015</td>\n",
       "      <td>1.012000e+08</td>\n",
       "      <td>2.716190e+08</td>\n",
       "    </tr>\n",
       "  </tbody>\n",
       "</table>\n",
       "<p>3 rows × 21 columns</p>\n",
       "</div>"
      ],
      "text/plain": [
       "       id    imdb_id  popularity     budget     revenue      original_title  \\\n",
       "0  135397  tt0369610   32.985763  150000000  1513528810      Jurassic World   \n",
       "1   76341  tt1392190   28.419936  150000000   378436354  Mad Max: Fury Road   \n",
       "2  262500  tt2908446   13.112507  110000000   295238201           Insurgent   \n",
       "\n",
       "                                                cast  \\\n",
       "0  Chris Pratt|Bryce Dallas Howard|Irrfan Khan|Vi...   \n",
       "1  Tom Hardy|Charlize Theron|Hugh Keays-Byrne|Nic...   \n",
       "2  Shailene Woodley|Theo James|Kate Winslet|Ansel...   \n",
       "\n",
       "                                         homepage          director  \\\n",
       "0                   http://www.jurassicworld.com/   Colin Trevorrow   \n",
       "1                     http://www.madmaxmovie.com/     George Miller   \n",
       "2  http://www.thedivergentseries.movie/#insurgent  Robert Schwentke   \n",
       "\n",
       "                      tagline      ...       \\\n",
       "0           The park is open.      ...        \n",
       "1          What a Lovely Day.      ...        \n",
       "2  One Choice Can Destroy You      ...        \n",
       "\n",
       "                                            overview runtime  \\\n",
       "0  Twenty-two years after the events of Jurassic ...     124   \n",
       "1  An apocalyptic story set in the furthest reach...     120   \n",
       "2  Beatrice Prior must confront her inner demons ...     119   \n",
       "\n",
       "                                      genres  \\\n",
       "0  Action|Adventure|Science Fiction|Thriller   \n",
       "1  Action|Adventure|Science Fiction|Thriller   \n",
       "2         Adventure|Science Fiction|Thriller   \n",
       "\n",
       "                                production_companies release_date vote_count  \\\n",
       "0  Universal Studios|Amblin Entertainment|Legenda...       6/9/15       5562   \n",
       "1  Village Roadshow Pictures|Kennedy Miller Produ...      5/13/15       6185   \n",
       "2  Summit Entertainment|Mandeville Films|Red Wago...      3/18/15       2480   \n",
       "\n",
       "   vote_average  release_year    budget_adj   revenue_adj  \n",
       "0           6.5          2015  1.379999e+08  1.392446e+09  \n",
       "1           7.1          2015  1.379999e+08  3.481613e+08  \n",
       "2           6.3          2015  1.012000e+08  2.716190e+08  \n",
       "\n",
       "[3 rows x 21 columns]"
      ]
     },
     "execution_count": 7,
     "metadata": {},
     "output_type": "execute_result"
    }
   ],
   "source": [
    "## reading  csv file:\n",
    "tmdb_df = pd.read_csv(tmdb_csv_file)\n",
    "                         \n",
    "## printing first 3 rows of data:\n",
    "tmdb_df.head(3)\n"
   ]
  },
  {
   "cell_type": "markdown",
   "metadata": {},
   "source": [
    "Observations:\n",
    "* The data contains __imdb_id__ as well as __id__ from TMDb.\n",
    "  These can be correlate data from both databases.\n",
    "* The __budget__ and __revenue__ columns are not of much use as it will be more appropriate to use the adjusted values,\n",
    "    __budget_adj__ and __revenue_adj__ to compare movies from different time periods.\n",
    "* Let us assume them to be dollars('$') as no units are provided.\n"
   ]
  },
  {
   "cell_type": "code",
   "execution_count": 9,
   "metadata": {},
   "outputs": [
    {
     "name": "stdout",
     "output_type": "stream",
     "text": [
      "<class 'pandas.core.frame.DataFrame'>\n",
      "RangeIndex: 10866 entries, 0 to 10865\n",
      "Data columns (total 21 columns):\n",
      "id                      10866 non-null int64\n",
      "imdb_id                 10856 non-null object\n",
      "popularity              10866 non-null float64\n",
      "budget                  10866 non-null int64\n",
      "revenue                 10866 non-null int64\n",
      "original_title          10866 non-null object\n",
      "cast                    10790 non-null object\n",
      "homepage                2936 non-null object\n",
      "director                10822 non-null object\n",
      "tagline                 8042 non-null object\n",
      "keywords                9373 non-null object\n",
      "overview                10862 non-null object\n",
      "runtime                 10866 non-null int64\n",
      "genres                  10843 non-null object\n",
      "production_companies    9836 non-null object\n",
      "release_date            10866 non-null object\n",
      "vote_count              10866 non-null int64\n",
      "vote_average            10866 non-null float64\n",
      "release_year            10866 non-null int64\n",
      "budget_adj              10866 non-null float64\n",
      "revenue_adj             10866 non-null float64\n",
      "dtypes: float64(4), int64(6), object(11)\n",
      "memory usage: 1.7+ MB\n"
     ]
    }
   ],
   "source": [
    "## Table details\n",
    "tmdb_df.info()"
   ]
  },
  {
   "cell_type": "code",
   "execution_count": 11,
   "metadata": {},
   "outputs": [
    {
     "data": {
      "text/plain": [
       "10866"
      ]
     },
     "execution_count": 11,
     "metadata": {},
     "output_type": "execute_result"
    }
   ],
   "source": [
    "## number of rows:\n",
    "len(tmdb_df)"
   ]
  },
  {
   "cell_type": "code",
   "execution_count": 17,
   "metadata": {},
   "outputs": [],
   "source": [
    "# Des_movie is a function which aims to describe the information about a movie with a particular id:\n",
    "\n",
    "def Des_movie(tmdb_id, df):\n",
    "    '''\n",
    "        Function movie_description aims to displays \n",
    "        \n",
    "        info about a movie with a particular TMDb ID.\n",
    "    '''\n",
    "    movie_df = df[df['id'] == tmdb_id]\n",
    "    # ^ this is still a dataframe... we need to convert this to a series:\n",
    "    movie_info = pd.Series(tmdb_df.iloc[0])\n",
    "    \n",
    "    # printing out the relevant information:\n",
    "    print('{}({}):'.format(movie_info['original_title'], movie_info[ 'release_year']))\n",
    "    print('\\tbudget (adj): {}$'.format(movie_info['budget_adj']))\n",
    "    print('\\trevenue (adj): {}$'.format(movie_info['revenue_adj']))\n",
    "    print('\\tdirector: {}'.format(movie_info['director'])) \n",
    "    print('\\tgenres: {}'.format(', '.join(movie_info['genres'].split('|'))))\n",
    "    print('\\tcast: {}'.format(', '.join(movie_info['cast'].split('|'))))\n",
    "    print('\\average rating:', movie_info['vote_average'])\n",
    "    print('\\tpopularity:', movie_info['popularity'])\n",
    "    \n",
    "    \n",
    "\n"
   ]
  },
  {
   "cell_type": "code",
   "execution_count": 19,
   "metadata": {},
   "outputs": [
    {
     "name": "stdout",
     "output_type": "stream",
     "text": [
      "Jurassic World(2015):\n",
      "\tbudget (adj): 137999939.280026$\n",
      "\trevenue (adj): 1392445892.5238$\n",
      "\tdirector: Colin Trevorrow\n",
      "\tgenres: Action, Adventure, Science Fiction, Thriller\n",
      "\tcast: Chris Pratt, Bryce Dallas Howard, Irrfan Khan, Vincent D'Onofrio, Nick Robinson\n",
      "\u0007verage rating: 6.5\n",
      "\tpopularity: 32.985763\n"
     ]
    }
   ],
   "source": [
    "## Maximum Revenue\n",
    "\n",
    "max_revenue = tmdb_df['revenue_adj'].idxmax()\n",
    "max_revenue_id = tmdb_df.loc[max_revenue, 'id']\n",
    "Des_movie(max_revenue_id, tmdb_df)\n"
   ]
  },
  {
   "cell_type": "code",
   "execution_count": 20,
   "metadata": {},
   "outputs": [
    {
     "name": "stdout",
     "output_type": "stream",
     "text": [
      "Jurassic World(2015):\n",
      "\tbudget (adj): 137999939.280026$\n",
      "\trevenue (adj): 1392445892.5238$\n",
      "\tdirector: Colin Trevorrow\n",
      "\tgenres: Action, Adventure, Science Fiction, Thriller\n",
      "\tcast: Chris Pratt, Bryce Dallas Howard, Irrfan Khan, Vincent D'Onofrio, Nick Robinson\n",
      "\u0007verage rating: 6.5\n",
      "\tpopularity: 32.985763\n"
     ]
    }
   ],
   "source": [
    "##highest budget:\n",
    "\n",
    "highest_budget = tmdb_df['budget_adj'].idxmax()\n",
    "highest_budget_id = tmdb_df.loc[highest_budget, 'id']\n",
    "Des_movie(highest_budget_id, tmdb_df)"
   ]
  },
  {
   "cell_type": "code",
   "execution_count": 22,
   "metadata": {},
   "outputs": [
    {
     "name": "stdout",
     "output_type": "stream",
     "text": [
      "Jurassic World(2015):\n",
      "\tbudget (adj): 137999939.280026$\n",
      "\trevenue (adj): 1392445892.5238$\n",
      "\tdirector: Colin Trevorrow\n",
      "\tgenres: Action, Adventure, Science Fiction, Thriller\n",
      "\tcast: Chris Pratt, Bryce Dallas Howard, Irrfan Khan, Vincent D'Onofrio, Nick Robinson\n",
      "\u0007verage rating: 6.5\n",
      "\tpopularity: 32.985763\n"
     ]
    }
   ],
   "source": [
    "## Highest rated movie\n",
    "\n",
    "highest_rated=tmdb_df['vote_average'].idxmax()\n",
    "highest_rated_id=tmdb_df.loc[highest_rated,'id']\n",
    "Des_movie(highest_rated_id,tmdb_df)"
   ]
  },
  {
   "cell_type": "code",
   "execution_count": 23,
   "metadata": {},
   "outputs": [
    {
     "name": "stdout",
     "output_type": "stream",
     "text": [
      "Jurassic World(2015):\n",
      "\tbudget (adj): 137999939.280026$\n",
      "\trevenue (adj): 1392445892.5238$\n",
      "\tdirector: Colin Trevorrow\n",
      "\tgenres: Action, Adventure, Science Fiction, Thriller\n",
      "\tcast: Chris Pratt, Bryce Dallas Howard, Irrfan Khan, Vincent D'Onofrio, Nick Robinson\n",
      "\u0007verage rating: 6.5\n",
      "\tpopularity: 32.985763\n"
     ]
    }
   ],
   "source": [
    "## Most popular movie\n",
    "\n",
    "most_popular=tmdb_df['popularity'].idxmax()\n",
    "most_popular_id=tmdb_df.loc[most_popular,'id']\n",
    "Des_movie(most_popular_id,tmdb_df)"
   ]
  },
  {
   "cell_type": "markdown",
   "metadata": {},
   "source": [
    "## Data Cleaning\n",
    "\n",
    "\n",
    "Removing useless columns which is not needed in data analysis:\n",
    "\n",
    "* budget\n",
    "* homepage\n",
    "* imdb_id\n",
    "* keywords\n",
    "* overview\n",
    "* revenue\n",
    "* tagline\n",
    "* vote count"
   ]
  },
  {
   "cell_type": "markdown",
   "metadata": {},
   "source": [
    "### Removing Duplicate Row"
   ]
  },
  {
   "cell_type": "code",
   "execution_count": 24,
   "metadata": {},
   "outputs": [],
   "source": [
    "# With the help of drop_duplicates function we can drop all the duplicate row:\n",
    "\n",
    "tmdb_df.drop_duplicates(inplace=True)\n",
    "\n"
   ]
  },
  {
   "cell_type": "markdown",
   "metadata": {},
   "source": [
    "### Removing useless columns"
   ]
  },
  {
   "cell_type": "code",
   "execution_count": 25,
   "metadata": {},
   "outputs": [
    {
     "data": {
      "text/html": [
       "<div>\n",
       "<style scoped>\n",
       "    .dataframe tbody tr th:only-of-type {\n",
       "        vertical-align: middle;\n",
       "    }\n",
       "\n",
       "    .dataframe tbody tr th {\n",
       "        vertical-align: top;\n",
       "    }\n",
       "\n",
       "    .dataframe thead th {\n",
       "        text-align: right;\n",
       "    }\n",
       "</style>\n",
       "<table border=\"1\" class=\"dataframe\">\n",
       "  <thead>\n",
       "    <tr style=\"text-align: right;\">\n",
       "      <th></th>\n",
       "      <th>id</th>\n",
       "      <th>popularity</th>\n",
       "      <th>original_title</th>\n",
       "      <th>cast</th>\n",
       "      <th>director</th>\n",
       "      <th>runtime</th>\n",
       "      <th>genres</th>\n",
       "      <th>production_companies</th>\n",
       "      <th>release_date</th>\n",
       "      <th>vote_average</th>\n",
       "      <th>release_year</th>\n",
       "      <th>budget_adj</th>\n",
       "      <th>revenue_adj</th>\n",
       "    </tr>\n",
       "  </thead>\n",
       "  <tbody>\n",
       "    <tr>\n",
       "      <th>0</th>\n",
       "      <td>135397</td>\n",
       "      <td>32.985763</td>\n",
       "      <td>Jurassic World</td>\n",
       "      <td>Chris Pratt|Bryce Dallas Howard|Irrfan Khan|Vi...</td>\n",
       "      <td>Colin Trevorrow</td>\n",
       "      <td>124</td>\n",
       "      <td>Action|Adventure|Science Fiction|Thriller</td>\n",
       "      <td>Universal Studios|Amblin Entertainment|Legenda...</td>\n",
       "      <td>6/9/15</td>\n",
       "      <td>6.5</td>\n",
       "      <td>2015</td>\n",
       "      <td>1.379999e+08</td>\n",
       "      <td>1.392446e+09</td>\n",
       "    </tr>\n",
       "    <tr>\n",
       "      <th>1</th>\n",
       "      <td>76341</td>\n",
       "      <td>28.419936</td>\n",
       "      <td>Mad Max: Fury Road</td>\n",
       "      <td>Tom Hardy|Charlize Theron|Hugh Keays-Byrne|Nic...</td>\n",
       "      <td>George Miller</td>\n",
       "      <td>120</td>\n",
       "      <td>Action|Adventure|Science Fiction|Thriller</td>\n",
       "      <td>Village Roadshow Pictures|Kennedy Miller Produ...</td>\n",
       "      <td>5/13/15</td>\n",
       "      <td>7.1</td>\n",
       "      <td>2015</td>\n",
       "      <td>1.379999e+08</td>\n",
       "      <td>3.481613e+08</td>\n",
       "    </tr>\n",
       "  </tbody>\n",
       "</table>\n",
       "</div>"
      ],
      "text/plain": [
       "       id  popularity      original_title  \\\n",
       "0  135397   32.985763      Jurassic World   \n",
       "1   76341   28.419936  Mad Max: Fury Road   \n",
       "\n",
       "                                                cast         director  \\\n",
       "0  Chris Pratt|Bryce Dallas Howard|Irrfan Khan|Vi...  Colin Trevorrow   \n",
       "1  Tom Hardy|Charlize Theron|Hugh Keays-Byrne|Nic...    George Miller   \n",
       "\n",
       "   runtime                                     genres  \\\n",
       "0      124  Action|Adventure|Science Fiction|Thriller   \n",
       "1      120  Action|Adventure|Science Fiction|Thriller   \n",
       "\n",
       "                                production_companies release_date  \\\n",
       "0  Universal Studios|Amblin Entertainment|Legenda...       6/9/15   \n",
       "1  Village Roadshow Pictures|Kennedy Miller Produ...      5/13/15   \n",
       "\n",
       "   vote_average  release_year    budget_adj   revenue_adj  \n",
       "0           6.5          2015  1.379999e+08  1.392446e+09  \n",
       "1           7.1          2015  1.379999e+08  3.481613e+08  "
      ]
     },
     "execution_count": 25,
     "metadata": {},
     "output_type": "execute_result"
    }
   ],
   "source": [
    "useless_columns = ['budget','homepage','imdb_id','keywords','overview','revenue','tagline','vote_count']\n",
    "cleaning_df = tmdb_df.drop(useless_columns, axis=1) # axis = 1 means columns\n",
    "#checking\n",
    "cleaning_df.head(2)"
   ]
  },
  {
   "cell_type": "markdown",
   "metadata": {},
   "source": [
    "### Data types conversion\n"
   ]
  },
  {
   "cell_type": "markdown",
   "metadata": {},
   "source": [
    "Converting __release_year__ column to datetime objects:"
   ]
  },
  {
   "cell_type": "code",
   "execution_count": 27,
   "metadata": {},
   "outputs": [
    {
     "data": {
      "text/plain": [
       "2015"
      ]
     },
     "execution_count": 27,
     "metadata": {},
     "output_type": "execute_result"
    }
   ],
   "source": [
    "# using pandas to_datetime function the conversion can be done:\n",
    "\n",
    "cleaning_df['release_date']=pd.to_datetime(cleaning_df['release_date'])\n",
    "\n",
    "#checking on one of the data\n",
    "\n",
    "cleaning_df.loc[5,'release_date'].year\n"
   ]
  },
  {
   "cell_type": "markdown",
   "metadata": {},
   "source": [
    "Converting __cast__, __production_companies__ and __genres__ to lists:"
   ]
  },
  {
   "cell_type": "code",
   "execution_count": 29,
   "metadata": {},
   "outputs": [],
   "source": [
    "\n",
    "def list_convertor(string):\n",
    "    '''\n",
    "        Returns a list of strings obtained by splitting the input string.\n",
    "        If input is not a string, returns NaN.\n",
    "    '''\n",
    "    if isinstance(string, str):\n",
    "        return string.split('|')\n",
    "    return np.nan\n",
    "\n",
    "cleaning_df['genres'] = cleaning_df['genres'].apply(converting_to_list)\n",
    "cleaning_df['production_companies'] = cleaning_df['production_companies'].apply(converting_to_list)\n",
    "cleaning_df['cast'] = cleaning_df['cast'].apply(converting_to_list)\n"
   ]
  },
  {
   "cell_type": "markdown",
   "metadata": {},
   "source": [
    "### Null Values\n",
    "\n",
    "Let's replace 0s in budget and revenue columns with NaNs:"
   ]
  },
  {
   "cell_type": "code",
   "execution_count": 30,
   "metadata": {},
   "outputs": [],
   "source": [
    "# replacing values 0s with NaNs:\n",
    "cleaning_df.loc[cleaning_df['revenue_adj'] == 0, 'revenue_adj'] = np.nan\n",
    "cleaning_df.loc[cleaning_df['budget_adj'] == 0, 'budget_adj'] = np.nan\n"
   ]
  },
  {
   "cell_type": "code",
   "execution_count": 33,
   "metadata": {},
   "outputs": [
    {
     "data": {
      "text/html": [
       "<div>\n",
       "<style scoped>\n",
       "    .dataframe tbody tr th:only-of-type {\n",
       "        vertical-align: middle;\n",
       "    }\n",
       "\n",
       "    .dataframe tbody tr th {\n",
       "        vertical-align: top;\n",
       "    }\n",
       "\n",
       "    .dataframe thead th {\n",
       "        text-align: right;\n",
       "    }\n",
       "</style>\n",
       "<table border=\"1\" class=\"dataframe\">\n",
       "  <thead>\n",
       "    <tr style=\"text-align: right;\">\n",
       "      <th></th>\n",
       "      <th>id</th>\n",
       "      <th>popularity</th>\n",
       "      <th>original_title</th>\n",
       "      <th>cast</th>\n",
       "      <th>director</th>\n",
       "      <th>runtime</th>\n",
       "      <th>genres</th>\n",
       "      <th>production_companies</th>\n",
       "      <th>release_date</th>\n",
       "      <th>vote_average</th>\n",
       "      <th>release_year</th>\n",
       "      <th>budget_adj</th>\n",
       "      <th>revenue_adj</th>\n",
       "    </tr>\n",
       "  </thead>\n",
       "  <tbody>\n",
       "    <tr>\n",
       "      <th>0</th>\n",
       "      <td>135397</td>\n",
       "      <td>32.985763</td>\n",
       "      <td>Jurassic World</td>\n",
       "      <td>[Chris Pratt, Bryce Dallas Howard, Irrfan Khan...</td>\n",
       "      <td>Colin Trevorrow</td>\n",
       "      <td>124</td>\n",
       "      <td>[Action, Adventure, Science Fiction, Thriller]</td>\n",
       "      <td>[Universal Studios, Amblin Entertainment, Lege...</td>\n",
       "      <td>2015-06-09</td>\n",
       "      <td>6.5</td>\n",
       "      <td>2015</td>\n",
       "      <td>1.379999e+08</td>\n",
       "      <td>1.392446e+09</td>\n",
       "    </tr>\n",
       "    <tr>\n",
       "      <th>1</th>\n",
       "      <td>76341</td>\n",
       "      <td>28.419936</td>\n",
       "      <td>Mad Max: Fury Road</td>\n",
       "      <td>[Tom Hardy, Charlize Theron, Hugh Keays-Byrne,...</td>\n",
       "      <td>George Miller</td>\n",
       "      <td>120</td>\n",
       "      <td>[Action, Adventure, Science Fiction, Thriller]</td>\n",
       "      <td>[Village Roadshow Pictures, Kennedy Miller Pro...</td>\n",
       "      <td>2015-05-13</td>\n",
       "      <td>7.1</td>\n",
       "      <td>2015</td>\n",
       "      <td>1.379999e+08</td>\n",
       "      <td>3.481613e+08</td>\n",
       "    </tr>\n",
       "    <tr>\n",
       "      <th>2</th>\n",
       "      <td>262500</td>\n",
       "      <td>13.112507</td>\n",
       "      <td>Insurgent</td>\n",
       "      <td>[Shailene Woodley, Theo James, Kate Winslet, A...</td>\n",
       "      <td>Robert Schwentke</td>\n",
       "      <td>119</td>\n",
       "      <td>[Adventure, Science Fiction, Thriller]</td>\n",
       "      <td>[Summit Entertainment, Mandeville Films, Red W...</td>\n",
       "      <td>2015-03-18</td>\n",
       "      <td>6.3</td>\n",
       "      <td>2015</td>\n",
       "      <td>1.012000e+08</td>\n",
       "      <td>2.716190e+08</td>\n",
       "    </tr>\n",
       "    <tr>\n",
       "      <th>3</th>\n",
       "      <td>140607</td>\n",
       "      <td>11.173104</td>\n",
       "      <td>Star Wars: The Force Awakens</td>\n",
       "      <td>[Harrison Ford, Mark Hamill, Carrie Fisher, Ad...</td>\n",
       "      <td>J.J. Abrams</td>\n",
       "      <td>136</td>\n",
       "      <td>[Action, Adventure, Science Fiction, Fantasy]</td>\n",
       "      <td>[Lucasfilm, Truenorth Productions, Bad Robot]</td>\n",
       "      <td>2015-12-15</td>\n",
       "      <td>7.5</td>\n",
       "      <td>2015</td>\n",
       "      <td>1.839999e+08</td>\n",
       "      <td>1.902723e+09</td>\n",
       "    </tr>\n",
       "    <tr>\n",
       "      <th>4</th>\n",
       "      <td>168259</td>\n",
       "      <td>9.335014</td>\n",
       "      <td>Furious 7</td>\n",
       "      <td>[Vin Diesel, Paul Walker, Jason Statham, Miche...</td>\n",
       "      <td>James Wan</td>\n",
       "      <td>137</td>\n",
       "      <td>[Action, Crime, Thriller]</td>\n",
       "      <td>[Universal Pictures, Original Film, Media Righ...</td>\n",
       "      <td>2015-04-01</td>\n",
       "      <td>7.3</td>\n",
       "      <td>2015</td>\n",
       "      <td>1.747999e+08</td>\n",
       "      <td>1.385749e+09</td>\n",
       "    </tr>\n",
       "  </tbody>\n",
       "</table>\n",
       "</div>"
      ],
      "text/plain": [
       "       id  popularity                original_title  \\\n",
       "0  135397   32.985763                Jurassic World   \n",
       "1   76341   28.419936            Mad Max: Fury Road   \n",
       "2  262500   13.112507                     Insurgent   \n",
       "3  140607   11.173104  Star Wars: The Force Awakens   \n",
       "4  168259    9.335014                     Furious 7   \n",
       "\n",
       "                                                cast          director  \\\n",
       "0  [Chris Pratt, Bryce Dallas Howard, Irrfan Khan...   Colin Trevorrow   \n",
       "1  [Tom Hardy, Charlize Theron, Hugh Keays-Byrne,...     George Miller   \n",
       "2  [Shailene Woodley, Theo James, Kate Winslet, A...  Robert Schwentke   \n",
       "3  [Harrison Ford, Mark Hamill, Carrie Fisher, Ad...       J.J. Abrams   \n",
       "4  [Vin Diesel, Paul Walker, Jason Statham, Miche...         James Wan   \n",
       "\n",
       "   runtime                                          genres  \\\n",
       "0      124  [Action, Adventure, Science Fiction, Thriller]   \n",
       "1      120  [Action, Adventure, Science Fiction, Thriller]   \n",
       "2      119          [Adventure, Science Fiction, Thriller]   \n",
       "3      136   [Action, Adventure, Science Fiction, Fantasy]   \n",
       "4      137                       [Action, Crime, Thriller]   \n",
       "\n",
       "                                production_companies release_date  \\\n",
       "0  [Universal Studios, Amblin Entertainment, Lege...   2015-06-09   \n",
       "1  [Village Roadshow Pictures, Kennedy Miller Pro...   2015-05-13   \n",
       "2  [Summit Entertainment, Mandeville Films, Red W...   2015-03-18   \n",
       "3      [Lucasfilm, Truenorth Productions, Bad Robot]   2015-12-15   \n",
       "4  [Universal Pictures, Original Film, Media Righ...   2015-04-01   \n",
       "\n",
       "   vote_average  release_year    budget_adj   revenue_adj  \n",
       "0           6.5          2015  1.379999e+08  1.392446e+09  \n",
       "1           7.1          2015  1.379999e+08  3.481613e+08  \n",
       "2           6.3          2015  1.012000e+08  2.716190e+08  \n",
       "3           7.5          2015  1.839999e+08  1.902723e+09  \n",
       "4           7.3          2015  1.747999e+08  1.385749e+09  "
      ]
     },
     "execution_count": 33,
     "metadata": {},
     "output_type": "execute_result"
    }
   ],
   "source": [
    "#checking the modifications done yet\n",
    "# printing out the 5 modified changes \n",
    "cleaning_df.head(5)\n"
   ]
  },
  {
   "cell_type": "markdown",
   "metadata": {},
   "source": [
    "### Dropping rows with less info of revenue or budget"
   ]
  },
  {
   "cell_type": "code",
   "execution_count": 35,
   "metadata": {},
   "outputs": [
    {
     "name": "stdout",
     "output_type": "stream",
     "text": [
      "Movies with both revenue and budget information: 3854\n"
     ]
    }
   ],
   "source": [
    "\n",
    "# The dropped rows might have been useful for some other questions, but for this project require them to be dropped.\n",
    "\n",
    "revenue_df = cleaning_df.dropna(subset=['revenue_adj', 'budget_adj'], how='any')\n",
    "print('Movies with both revenue and budget information:', len(revenue_df))\n",
    "\n"
   ]
  },
  {
   "cell_type": "code",
   "execution_count": 36,
   "metadata": {},
   "outputs": [
    {
     "data": {
      "text/html": [
       "<div>\n",
       "<style scoped>\n",
       "    .dataframe tbody tr th:only-of-type {\n",
       "        vertical-align: middle;\n",
       "    }\n",
       "\n",
       "    .dataframe tbody tr th {\n",
       "        vertical-align: top;\n",
       "    }\n",
       "\n",
       "    .dataframe thead th {\n",
       "        text-align: right;\n",
       "    }\n",
       "</style>\n",
       "<table border=\"1\" class=\"dataframe\">\n",
       "  <thead>\n",
       "    <tr style=\"text-align: right;\">\n",
       "      <th></th>\n",
       "      <th>id</th>\n",
       "      <th>popularity</th>\n",
       "      <th>original_title</th>\n",
       "      <th>cast</th>\n",
       "      <th>director</th>\n",
       "      <th>runtime</th>\n",
       "      <th>genres</th>\n",
       "      <th>production_companies</th>\n",
       "      <th>release_date</th>\n",
       "      <th>vote_average</th>\n",
       "      <th>release_year</th>\n",
       "      <th>budget_adj</th>\n",
       "      <th>revenue_adj</th>\n",
       "    </tr>\n",
       "  </thead>\n",
       "  <tbody>\n",
       "    <tr>\n",
       "      <th>0</th>\n",
       "      <td>135397</td>\n",
       "      <td>32.985763</td>\n",
       "      <td>Jurassic World</td>\n",
       "      <td>[Chris Pratt, Bryce Dallas Howard, Irrfan Khan...</td>\n",
       "      <td>Colin Trevorrow</td>\n",
       "      <td>124</td>\n",
       "      <td>[Action, Adventure, Science Fiction, Thriller]</td>\n",
       "      <td>[Universal Studios, Amblin Entertainment, Lege...</td>\n",
       "      <td>2015-06-09</td>\n",
       "      <td>6.5</td>\n",
       "      <td>2015</td>\n",
       "      <td>1.379999e+08</td>\n",
       "      <td>1.392446e+09</td>\n",
       "    </tr>\n",
       "    <tr>\n",
       "      <th>1</th>\n",
       "      <td>76341</td>\n",
       "      <td>28.419936</td>\n",
       "      <td>Mad Max: Fury Road</td>\n",
       "      <td>[Tom Hardy, Charlize Theron, Hugh Keays-Byrne,...</td>\n",
       "      <td>George Miller</td>\n",
       "      <td>120</td>\n",
       "      <td>[Action, Adventure, Science Fiction, Thriller]</td>\n",
       "      <td>[Village Roadshow Pictures, Kennedy Miller Pro...</td>\n",
       "      <td>2015-05-13</td>\n",
       "      <td>7.1</td>\n",
       "      <td>2015</td>\n",
       "      <td>1.379999e+08</td>\n",
       "      <td>3.481613e+08</td>\n",
       "    </tr>\n",
       "    <tr>\n",
       "      <th>2</th>\n",
       "      <td>262500</td>\n",
       "      <td>13.112507</td>\n",
       "      <td>Insurgent</td>\n",
       "      <td>[Shailene Woodley, Theo James, Kate Winslet, A...</td>\n",
       "      <td>Robert Schwentke</td>\n",
       "      <td>119</td>\n",
       "      <td>[Adventure, Science Fiction, Thriller]</td>\n",
       "      <td>[Summit Entertainment, Mandeville Films, Red W...</td>\n",
       "      <td>2015-03-18</td>\n",
       "      <td>6.3</td>\n",
       "      <td>2015</td>\n",
       "      <td>1.012000e+08</td>\n",
       "      <td>2.716190e+08</td>\n",
       "    </tr>\n",
       "    <tr>\n",
       "      <th>3</th>\n",
       "      <td>140607</td>\n",
       "      <td>11.173104</td>\n",
       "      <td>Star Wars: The Force Awakens</td>\n",
       "      <td>[Harrison Ford, Mark Hamill, Carrie Fisher, Ad...</td>\n",
       "      <td>J.J. Abrams</td>\n",
       "      <td>136</td>\n",
       "      <td>[Action, Adventure, Science Fiction, Fantasy]</td>\n",
       "      <td>[Lucasfilm, Truenorth Productions, Bad Robot]</td>\n",
       "      <td>2015-12-15</td>\n",
       "      <td>7.5</td>\n",
       "      <td>2015</td>\n",
       "      <td>1.839999e+08</td>\n",
       "      <td>1.902723e+09</td>\n",
       "    </tr>\n",
       "    <tr>\n",
       "      <th>4</th>\n",
       "      <td>168259</td>\n",
       "      <td>9.335014</td>\n",
       "      <td>Furious 7</td>\n",
       "      <td>[Vin Diesel, Paul Walker, Jason Statham, Miche...</td>\n",
       "      <td>James Wan</td>\n",
       "      <td>137</td>\n",
       "      <td>[Action, Crime, Thriller]</td>\n",
       "      <td>[Universal Pictures, Original Film, Media Righ...</td>\n",
       "      <td>2015-04-01</td>\n",
       "      <td>7.3</td>\n",
       "      <td>2015</td>\n",
       "      <td>1.747999e+08</td>\n",
       "      <td>1.385749e+09</td>\n",
       "    </tr>\n",
       "  </tbody>\n",
       "</table>\n",
       "</div>"
      ],
      "text/plain": [
       "       id  popularity                original_title  \\\n",
       "0  135397   32.985763                Jurassic World   \n",
       "1   76341   28.419936            Mad Max: Fury Road   \n",
       "2  262500   13.112507                     Insurgent   \n",
       "3  140607   11.173104  Star Wars: The Force Awakens   \n",
       "4  168259    9.335014                     Furious 7   \n",
       "\n",
       "                                                cast          director  \\\n",
       "0  [Chris Pratt, Bryce Dallas Howard, Irrfan Khan...   Colin Trevorrow   \n",
       "1  [Tom Hardy, Charlize Theron, Hugh Keays-Byrne,...     George Miller   \n",
       "2  [Shailene Woodley, Theo James, Kate Winslet, A...  Robert Schwentke   \n",
       "3  [Harrison Ford, Mark Hamill, Carrie Fisher, Ad...       J.J. Abrams   \n",
       "4  [Vin Diesel, Paul Walker, Jason Statham, Miche...         James Wan   \n",
       "\n",
       "   runtime                                          genres  \\\n",
       "0      124  [Action, Adventure, Science Fiction, Thriller]   \n",
       "1      120  [Action, Adventure, Science Fiction, Thriller]   \n",
       "2      119          [Adventure, Science Fiction, Thriller]   \n",
       "3      136   [Action, Adventure, Science Fiction, Fantasy]   \n",
       "4      137                       [Action, Crime, Thriller]   \n",
       "\n",
       "                                production_companies release_date  \\\n",
       "0  [Universal Studios, Amblin Entertainment, Lege...   2015-06-09   \n",
       "1  [Village Roadshow Pictures, Kennedy Miller Pro...   2015-05-13   \n",
       "2  [Summit Entertainment, Mandeville Films, Red W...   2015-03-18   \n",
       "3      [Lucasfilm, Truenorth Productions, Bad Robot]   2015-12-15   \n",
       "4  [Universal Pictures, Original Film, Media Righ...   2015-04-01   \n",
       "\n",
       "   vote_average  release_year    budget_adj   revenue_adj  \n",
       "0           6.5          2015  1.379999e+08  1.392446e+09  \n",
       "1           7.1          2015  1.379999e+08  3.481613e+08  \n",
       "2           6.3          2015  1.012000e+08  2.716190e+08  \n",
       "3           7.5          2015  1.839999e+08  1.902723e+09  \n",
       "4           7.3          2015  1.747999e+08  1.385749e+09  "
      ]
     },
     "execution_count": 36,
     "metadata": {},
     "output_type": "execute_result"
    }
   ],
   "source": [
    "# display the data (default first 5 rows will be displayed)\n",
    "revenue_df.head() "
   ]
  },
  {
   "cell_type": "markdown",
   "metadata": {},
   "source": [
    "## Exploration of Data"
   ]
  },
  {
   "cell_type": "markdown",
   "metadata": {},
   "source": [
    "###  Budget and Revenue Statistic"
   ]
  },
  {
   "cell_type": "code",
   "execution_count": 37,
   "metadata": {},
   "outputs": [
    {
     "data": {
      "text/plain": [
       "count    3.854000e+03\n",
       "mean     4.423999e+07\n",
       "std      4.480925e+07\n",
       "min      9.693980e-01\n",
       "25%      1.309053e+07\n",
       "50%      3.001611e+07\n",
       "75%      6.061307e+07\n",
       "max      4.250000e+08\n",
       "Name: budget_adj, dtype: float64"
      ]
     },
     "execution_count": 37,
     "metadata": {},
     "output_type": "execute_result"
    }
   ],
   "source": [
    "## budget statistics:\n",
    "\n",
    "budgets_adj = revenue_df['budget_adj']\n",
    "budgets_adj.describe()"
   ]
  },
  {
   "cell_type": "code",
   "execution_count": 38,
   "metadata": {},
   "outputs": [
    {
     "data": {
      "text/plain": [
       "count    3.854000e+03\n",
       "mean     1.370647e+08\n",
       "std      2.161114e+08\n",
       "min      2.370705e+00\n",
       "25%      1.835735e+07\n",
       "50%      6.173068e+07\n",
       "75%      1.632577e+08\n",
       "max      2.827124e+09\n",
       "Name: revenue_adj, dtype: float64"
      ]
     },
     "execution_count": 38,
     "metadata": {},
     "output_type": "execute_result"
    }
   ],
   "source": [
    "## revenue statistics:\n",
    "\n",
    "revenue_adj=revenue_df['revenue_adj']\n",
    "revenue_adj.describe()"
   ]
  },
  {
   "cell_type": "markdown",
   "metadata": {},
   "source": [
    "## Plot"
   ]
  },
  {
   "cell_type": "code",
   "execution_count": 40,
   "metadata": {},
   "outputs": [
    {
     "data": {
      "image/png": "[encoded data removed]",
      "text/plain": [
       "<Figure size 1152x576 with 1 Axes>"
      ]
     },
     "metadata": {},
     "output_type": "display_data"
    }
   ],
   "source": [
    "## year-wise trends in mean budgets and reveneus:\n",
    "\n",
    "# extract mean data:\n",
    "\n",
    "yearly_revenues_grouped = revenue_df.groupby('release_year', as_index=False)['revenue_adj']\n",
    "yearly_budgets_grouped = revenue_df.groupby('release_year', as_index=False)['budget_adj']\n",
    "\n",
    "yearly_budget_sums = yearly_budgets_grouped.sum()\n",
    "yearly_revenue_sums = yearly_revenues_grouped.sum()\n",
    "\n",
    "\n",
    "## plotting:\n",
    "fig = plt.figure(figsize = (16, 8))\n",
    "a = plt.axes()\n",
    "a.plot(yearly_budget_sums['release_year'], yearly_budget_sums['budget_adj'])\n",
    "a.plot(yearly_revenue_sums['release_year'], yearly_revenue_sums['revenue_adj'])\n",
    "plt.xlabel('Year')\n",
    "plt.ylabel('Total Budget/Revenue')\n",
    "plt.title('Total Budget and Revenue Trends From 1960 to 2015')\n",
    "plt.legend()\n",
    "plt.show()"
   ]
  },
  {
   "cell_type": "markdown",
   "metadata": {},
   "source": [
    "From the above plot we can say that the total budget and revenue gained have been increasing significantly over the years."
   ]
  },
  {
   "cell_type": "markdown",
   "metadata": {},
   "source": [
    "## Movies Revenue Collection"
   ]
  },
  {
   "cell_type": "markdown",
   "metadata": {},
   "source": [
    "### Budget"
   ]
  },
  {
   "cell_type": "markdown",
   "metadata": {},
   "source": [
    "Let's see the relationship between Budget and revenue collected by the movie."
   ]
  },
  {
   "cell_type": "code",
   "execution_count": 41,
   "metadata": {},
   "outputs": [
    {
     "data": {
      "image/png": "[encoded data removed]",
      "text/plain": [
       "<Figure size 1152x576 with 1 Axes>"
      ]
     },
     "metadata": {},
     "output_type": "display_data"
    }
   ],
   "source": [
    "# using matplotlib's scatter() function:\n",
    "\n",
    "fig = plt.figure(figsize = (16, 8))\n",
    "a = plt.axes()\n",
    "a.scatter(revenue_df['budget_adj'], revenue_df['revenue_adj'])\n",
    "plt.xlabel('Budget (Adjusted)')\n",
    "plt.ylabel('Revenue (Adjusted)')\n",
    "plt.title('Scatter-plot Between Budget And Revenue')\n",
    "plt.show()"
   ]
  },
  {
   "cell_type": "markdown",
   "metadata": {},
   "source": [
    "It seems that they have moderately positive correlation.\n",
    "Correlation can be calculated."
   ]
  },
  {
   "cell_type": "code",
   "execution_count": 42,
   "metadata": {},
   "outputs": [
    {
     "name": "stdout",
     "output_type": "stream",
     "text": [
      "Correlation(Budget/Revenue): 0.5704510195812392\n",
      "Coefficient of Determination(r-squared): 0.32541436574127536\n"
     ]
    }
   ],
   "source": [
    "# using DataFrame.corr() function and the Pearson method to calculate correlation:\n",
    "correlations = revenue_df.corr() # returns a dataframe containing pairwise correlation values\n",
    "\n",
    "print('Correlation(Budget/Revenue):', correlations.loc['budget_adj', 'revenue_adj'])\n",
    "print('Coefficient of Determination(r-squared):', correlations.loc['budget_adj', 'revenue_adj']**2)"
   ]
  },
  {
   "cell_type": "markdown",
   "metadata": {},
   "source": [
    "According to the coefficient of determination, approximately 32.54% of the variation in the revenue is explained by the variation in budgets.\n",
    "\n",
    "### Popularity\n"
   ]
  },
  {
   "cell_type": "code",
   "execution_count": 43,
   "metadata": {},
   "outputs": [
    {
     "data": {
      "image/png": "[encoded data removed]",
      "text/plain": [
       "<Figure size 1152x576 with 1 Axes>"
      ]
     },
     "metadata": {},
     "output_type": "display_data"
    }
   ],
   "source": [
    "# using matplotlib's scatter() function:\n",
    "\n",
    "fig = plt.figure(figsize = (16, 8))\n",
    "a = plt.axes()\n",
    "a.scatter(revenue_df['popularity'], revenue_df['revenue_adj'])\n",
    "plt.xlabel('Popularity')\n",
    "plt.ylabel('Revenue (Adjusted)')\n",
    "plt.title('Scatter-plot Between Popularity And Revenue')\n",
    "plt.show()"
   ]
  },
  {
   "cell_type": "markdown",
   "metadata": {},
   "source": [
    "It seems that they have moderately positive correlation.\n",
    "Correlation can be calculated."
   ]
  },
  {
   "cell_type": "code",
   "execution_count": 44,
   "metadata": {},
   "outputs": [
    {
     "name": "stdout",
     "output_type": "stream",
     "text": [
      "Correlation(Popularity/Revenue): 0.5469591846171393\n",
      "Coefficient of Determination(r-squared): 0.2991643496370459\n"
     ]
    }
   ],
   "source": [
    "print('Correlation(Popularity/Revenue):', correlations.loc['popularity', 'revenue_adj'])\n",
    "print('Coefficient of Determination(r-squared):', correlations.loc['popularity', 'revenue_adj']**2)"
   ]
  },
  {
   "cell_type": "markdown",
   "metadata": {},
   "source": [
    "Approximately 29.9% of the variation in revenue is explained by the variation in popularity.\n",
    "\n",
    "### Cast"
   ]
  },
  {
   "cell_type": "code",
   "execution_count": 46,
   "metadata": {},
   "outputs": [
    {
     "data": {
      "image/png": "[encoded data removed]",
      "text/plain": [
       "<Figure size 1152x576 with 1 Axes>"
      ]
     },
     "metadata": {},
     "output_type": "display_data"
    }
   ],
   "source": [
    "fig = plt.figure(figsize = (16, 8))\n",
    "a= plt.axes()\n",
    "a.hist(revenue_df['revenue_adj'], bins=25)\n",
    "plt.xticks(np.arange(0, revenue_df['revenue_adj'].max()+1, 0.1e9)) # setting a higher frequency for ticks on x axis\n",
    "plt.xlabel('Revenue')\n",
    "plt.ylabel('Frequency')\n",
    "plt.title('Histogram of Revenues')\n",
    "plt.show()\n"
   ]
  },
  {
   "cell_type": "code",
   "execution_count": 47,
   "metadata": {},
   "outputs": [
    {
     "name": "stdout",
     "output_type": "stream",
     "text": [
      "Revenue Statistics:\n"
     ]
    },
    {
     "data": {
      "text/plain": [
       "count    3.854000e+03\n",
       "mean     1.370647e+08\n",
       "std      2.161114e+08\n",
       "min      2.370705e+00\n",
       "25%      1.835735e+07\n",
       "50%      6.173068e+07\n",
       "75%      1.632577e+08\n",
       "max      2.827124e+09\n",
       "Name: revenue_adj, dtype: float64"
      ]
     },
     "execution_count": 47,
     "metadata": {},
     "output_type": "execute_result"
    }
   ],
   "source": [
    "# let's take a look at some statistics as well:\n",
    "print('Revenue Statistics:')\n",
    "revenue_df['revenue_adj'].describe()"
   ]
  },
  {
   "cell_type": "code",
   "execution_count": 48,
   "metadata": {},
   "outputs": [
    {
     "name": "stdout",
     "output_type": "stream",
     "text": [
      "Calculated Threshold revenue: 132085473.38714704\n"
     ]
    }
   ],
   "source": [
    "# using pandas' built-in function, quantile()\n",
    "threshold_revenue = revenue_df['revenue_adj'].quantile(0.7) \n",
    "\n",
    "print('Calculated Threshold revenue:', threshold_revenue)"
   ]
  },
  {
   "cell_type": "markdown",
   "metadata": {},
   "source": [
    "  133 is the threshold revenue."
   ]
  },
  {
   "cell_type": "code",
   "execution_count": 51,
   "metadata": {},
   "outputs": [
    {
     "name": "stdout",
     "output_type": "stream",
     "text": [
      "Number of high-revenue movies: 1156\n"
     ]
    }
   ],
   "source": [
    "high_rev_movies = revenue_df[revenue_df['revenue_adj'] >= threshold_revenue]\n",
    "\n",
    "print('Number of high-revenue movies:', len(high_rev_movies))"
   ]
  },
  {
   "cell_type": "code",
   "execution_count": 54,
   "metadata": {},
   "outputs": [
    {
     "name": "stdout",
     "output_type": "stream",
     "text": [
      "Total number of actors: 2661\n"
     ]
    }
   ],
   "source": [
    "# This function will also be useful next analyses regarding genres and production companies\n",
    "\n",
    "def agg_list(df, column):\n",
    "    # new_list function aggregate all lists into a single pandas series:\n",
    "    list_sum = pd.Series(df[column][df[column].notna()].sum())\n",
    "    \n",
    "    # converting data to counts of unique elements, in descending order and return:\n",
    "    counts_desc = list_sum.value_counts(ascending=False)\n",
    "    return counts_desc\n",
    "                                   \n",
    "counts_desc = agg_list(high_rev_movies, 'cast')\n",
    "print('Total number of actors:', len(counts_desc))\n",
    "\n"
   ]
  },
  {
   "cell_type": "code",
   "execution_count": 56,
   "metadata": {},
   "outputs": [
    {
     "name": "stdout",
     "output_type": "stream",
     "text": [
      "\n",
      "The top 20:\n",
      "\n",
      "Tom Cruise               27\n",
      "Brad Pitt                22\n",
      "Tom Hanks                21\n",
      "Eddie Murphy             20\n",
      "Robert De Niro           20\n",
      "Sylvester Stallone       19\n",
      "Harrison Ford            19\n",
      "Bruce Willis             19\n",
      "Adam Sandler             18\n",
      "Jim Carrey               18\n",
      "Samuel L. Jackson        17\n",
      "Cameron Diaz             17\n",
      "Ben Stiller              17\n",
      "Will Smith               17\n",
      "Arnold Schwarzenegger    17\n",
      "Denzel Washington        17\n",
      "Robin Williams           16\n",
      "Mel Gibson               16\n",
      "Sean Connery             15\n",
      "Nicolas Cage             15\n",
      "dtype: int64\n"
     ]
    }
   ],
   "source": [
    "# display the top 20 actors:\n",
    "print('\\nThe top 20:\\n')\n",
    "pprint(counts_desc.head(20))"
   ]
  },
  {
   "cell_type": "markdown",
   "metadata": {},
   "source": [
    "With no surprise Tom Cruise is the most demanding actor"
   ]
  },
  {
   "cell_type": "markdown",
   "metadata": {},
   "source": [
    "#### Genres"
   ]
  },
  {
   "cell_type": "code",
   "execution_count": 59,
   "metadata": {},
   "outputs": [
    {
     "name": "stdout",
     "output_type": "stream",
     "text": [
      "Total number of genres: 18\n",
      "\n",
      "The top 3:\n",
      "\n",
      "Action    458\n",
      "Drama     405\n",
      "Comedy    400\n",
      "dtype: int64\n"
     ]
    }
   ],
   "source": [
    "counts = agg_list(high_revenue_movies, 'genres')\n",
    "print('Total number of genres:', len(counts))\n",
    "\n",
    "# display the top 3 genres:\n",
    "print('\\nThe top 3:\\n')\n",
    "pprint(counts.head(3))"
   ]
  },
  {
   "cell_type": "markdown",
   "metadata": {},
   "source": [
    "Action, Drama and Comedy are the genres which are mostly liked by all."
   ]
  },
  {
   "cell_type": "markdown",
   "metadata": {},
   "source": [
    "### Production Companies\n"
   ]
  },
  {
   "cell_type": "code",
   "execution_count": 60,
   "metadata": {},
   "outputs": [
    {
     "name": "stdout",
     "output_type": "stream",
     "text": [
      "Total number of production companies: 1010\n",
      "\n",
      "The top 3:\n",
      "\n",
      "Universal Pictures    148\n",
      "Warner Bros.          146\n",
      "Paramount Pictures    135\n",
      "dtype: int64\n"
     ]
    }
   ],
   "source": [
    "counts = agg_list(high_rev_movies, 'production_companies')\n",
    "print('Total number of production companies:', len(counts))\n",
    "\n",
    "# display the top 3 production companies:\n",
    "print('\\nThe top 3:\\n')\n",
    "pprint(counts.head(3))"
   ]
  },
  {
   "cell_type": "markdown",
   "metadata": {},
   "source": [
    "### Directors\n"
   ]
  },
  {
   "cell_type": "code",
   "execution_count": 61,
   "metadata": {},
   "outputs": [
    {
     "name": "stdout",
     "output_type": "stream",
     "text": [
      "Total number of directors: 555\n",
      "\n",
      "The top 3:\n",
      "\n",
      "Steven Spielberg    23\n",
      "Robert Zemeckis     13\n",
      "Tim Burton          11\n",
      "Name: director, dtype: int64\n"
     ]
    }
   ],
   "source": [
    "top_directors = pd.Series(high_rev_movies['director']).dropna()\n",
    "counts = top_directors.value_counts(ascending=False)\n",
    "\n",
    "print('Total number of directors:', len(counts))\n",
    "\n",
    "# display the top 3 directors:\n",
    "print('\\nThe top 3:\\n')\n",
    "pprint(counts.head(3))"
   ]
  },
  {
   "cell_type": "markdown",
   "metadata": {},
   "source": [
    "<a id='conclusions'></a>\n",
    "## Conclusions:\n",
    "Trends of movies budget and revenue over the years.\n",
    "Characterisation of movies with highest revenues by considering following:\n",
    "Budget\n",
    "Popularity\n",
    "Cast\n",
    "Genres\n",
    "Director\n",
    "Finding the best cordination of actor and director for highest revenue movie.\n",
    "\n",
    "### Research questions 1: Trends of movies budget and revenue over the years.\n",
    "\n",
    "The plots and statistcs show clearly that the movie industry has grown manifold since the 1960's and if things keep going as they are now, the movie industry will grow even more.It is obvious that the movie industry has grown tremendously, even the plot has shown the significant growth in the budget and \n",
    "revenue since 1960, with this we can say that the movie industry has widen its scope and opportunities which leads the industry to grown markebly high over the years\n",
    "\n",
    "\n",
    "### Research questions 2: Characteristics of movies with high revenues\n",
    "\n",
    "We can predict which movie will have high revenue by:\n",
    "\n",
    "\n",
    "* __High Budget__: The positive correlation shown by my analysis means that a movie with a high budget will have a good chance of getting a high revenue, even though it is not entirely necessary.\n",
    "* __High Popularity__: Popularity also has a positive correlation with revenue. So I would single out movies with high popularity.\n",
    "* __Cast__: I would look for movies that have the top actors from my analysis like Tom Cruise, Brad Pitt,Tom Hanks, Eddie Murphy, Robert De Niro, Sylvester Stallone etc. \n",
    "* __Genres__: I would consider movies with Action, Drama, Comedy, Adventure and Thriller genres.\n",
    "* __Production Companies__: I would look for movies from Universal Studios, Paramount Pictures, Warner Bros. Twentieth Century Fox and other top production companies from my analysis.\n",
    "* __Director__: I would look for movies directed by Steven Spielberg, Michael Bay, Ridley Scott and other top directors.\n",
    "\n",
    "### Research questions 3: Finding the best cordination of actor and director for highest revenue movie.\n",
    "\n",
    "\n",
    "###                 a: List of top directors\n",
    "\n",
    "\n",
    "The top most actors are:\n",
    "\n",
    "                * Tom Cruise        27\n",
    "                * Brad Pitt         22\n",
    "                * Tom Hanks         21\n",
    "                * Robert De Niro    20\n",
    "                * Eddie Murphy      20\n",
    "\n",
    "These actors are the best actors of the film  industries and thus they have more fan followings and their work is appreciated more comparative to others.\n",
    "\n",
    "###                b: List of top directors\n",
    "\n",
    "The top 5:\n",
    "\n",
    "                * Steven Spielberg    23\n",
    "                * Robert Zemeckis     13\n",
    "                * Tim Burton          11\n",
    "                * Tony Scott          10\n",
    "                * Michael Bay         10\n",
    "                \n",
    "The director Steven Spielberg is the best record setter of 23 movies and thus it can be concluded that he is the best director to work with.\n",
    "\n",
    "Thus any combination of these actors and directors will be the best and leads to a successful high budget and high revenue movie which will be very obviously more popular than the others.\n",
    "\n",
    "\n",
    "## Limitation\n",
    "\n",
    "* I have not included tests to prove the statistical significance of my results.\n",
    "* While cleaning the data, I had to remove a lot of movies from the analysis. So the results may only be partially true.\n"
   ]
  }
 ],
 "metadata": {
  "kernelspec": {
   "display_name": "Python 3",
   "language": "python",
   "name": "python3"
  },
  "language_info": {
   "codemirror_mode": {
    "name": "ipython",
    "version": 3
   },
   "file_extension": ".py",
   "mimetype": "text/x-python",
   "name": "python",
   "nbconvert_exporter": "python",
   "pygments_lexer": "ipython3",
   "version": "3.6.5"
  }
 },
 "nbformat": 4,
 "nbformat_minor": 2
}
